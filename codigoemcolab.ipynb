{
  "nbformat": 4,
  "nbformat_minor": 0,
  "metadata": {
    "colab": {
      "provenance": [],
      "authorship_tag": "ABX9TyNk/TM2nBvgnO7tCH8F43Ue",
      "include_colab_link": true
    },
    "kernelspec": {
      "name": "python3",
      "display_name": "Python 3"
    },
    "language_info": {
      "name": "python"
    }
  },
  "cells": [
    {
      "cell_type": "markdown",
      "metadata": {
        "id": "view-in-github",
        "colab_type": "text"
      },
      "source": [
        "<a href=\"https://colab.research.google.com/github/DanielAtos-20-24/programacaoC/blob/main/codigoemcolab.ipynb\" target=\"_parent\"><img src=\"https://colab.research.google.com/assets/colab-badge.svg\" alt=\"Open In Colab\"/></a>"
      ]
    },
    {
      "cell_type": "markdown",
      "source": [],
      "metadata": {
        "id": "BGQQCREYXPKJ"
      }
    },
    {
      "cell_type": "code",
      "source": [
        "#Calculo da média em linguagem python.\n",
        "#Variável - condição inteira/float - entrada - opção desejada.\n",
        "numero1 = int(input(\"Digite o primeiro número:\"))\n",
        "numero2 = float(input(\"Digite o segundo número:\"))\n",
        "numero3 = int(input(\"Digite o terceiro número:\"))\n",
        "\n",
        "#Variável - soma entra parenteses / divido.\n",
        "media = (numero1 + numero2 + numero3) / 3\n",
        "\n",
        "# Imprimir a média com variáveis.\n",
        "print(\"A média entre\", numero1, \"e\", numero2, \"e\", numero3, \"é:\", {media});"
      ],
      "metadata": {
        "colab": {
          "base_uri": "https://localhost:8080/"
        },
        "id": "0sGGO3HlWxwg",
        "outputId": "e9ec3c83-3851-491c-be59-0f5b0d5d21e7"
      },
      "execution_count": 8,
      "outputs": [
        {
          "output_type": "stream",
          "name": "stdout",
          "text": [
            "Digite o primeiro número:4\n",
            "Digite o segundo número:5\n",
            "Digite o terceiro número:6\n",
            "A média entre 4 e 5.0 e 6 é: {5.0}\n"
          ]
        }
      ]
    },
    {
      "cell_type": "code",
      "source": [
        "# Receber um número de usuário para descrever se ele é impar ou par.\n",
        "# Variável com condição, número de entrada.\n",
        "# numero = int(input(\"Digite um número:\"))\n",
        "# A missão era escrever um código aonde eu descobriria se o número era par ou impar.\n",
        "# Fiz uma conta e dessa conta tive o resultado, se o número era impar ou par.\n",
        "opcao1 = int(input(\"Digite um número como opção: \"))\n",
        "opcao2 = int(input(\"Digite um número como opção: \"))\n",
        "\n",
        "contaTotal = (opcao1 + opcao2)\n",
        "\n",
        "\n",
        "# Verificar se o número é impar ou par.\n",
        "if contaTotal % 2 == 0:\n",
        "    print(f\"O número {contaTotal} é par.\")\n",
        "else:\n",
        "    print(f\"O número {contaTotal}é impar.\")\n",
        "\n",
        "print(f\"O resultado da conta é: {contaTotal}\")"
      ],
      "metadata": {
        "colab": {
          "base_uri": "https://localhost:8080/"
        },
        "id": "oxsHgua7fkyI",
        "outputId": "657daaaf-b355-439d-b1c8-dc7e7ddb8d54"
      },
      "execution_count": 13,
      "outputs": [
        {
          "output_type": "stream",
          "name": "stdout",
          "text": [
            "Digite um número como opção: 12\n",
            "Digite um número como opção: 12\n",
            "O número 24 é par.\n",
            "O resultado da conta é: 24\n"
          ]
        }
      ]
    }
  ]
}